{
 "cells": [
  {
   "cell_type": "code",
   "execution_count": 1,
   "metadata": {},
   "outputs": [
    {
     "data": {
      "text/html": [
       "<div>\n",
       "<style scoped>\n",
       "    .dataframe tbody tr th:only-of-type {\n",
       "        vertical-align: middle;\n",
       "    }\n",
       "\n",
       "    .dataframe tbody tr th {\n",
       "        vertical-align: top;\n",
       "    }\n",
       "\n",
       "    .dataframe thead th {\n",
       "        text-align: right;\n",
       "    }\n",
       "</style>\n",
       "<table border=\"1\" class=\"dataframe\">\n",
       "  <thead>\n",
       "    <tr style=\"text-align: right;\">\n",
       "      <th></th>\n",
       "      <th>id</th>\n",
       "      <th>Name</th>\n",
       "      <th>Full_Address</th>\n",
       "      <th>Website</th>\n",
       "      <th>Plus_Code</th>\n",
       "      <th>Rating</th>\n",
       "      <th>Reviews</th>\n",
       "      <th>URL</th>\n",
       "      <th>Unnamed: 8</th>\n",
       "    </tr>\n",
       "  </thead>\n",
       "  <tbody>\n",
       "    <tr>\n",
       "      <th>0</th>\n",
       "      <td>12</td>\n",
       "      <td>Buddies Burger</td>\n",
       "      <td>Budapest, Magyar u. 52, 1053</td>\n",
       "      <td>buddies.hu</td>\n",
       "      <td>F3R6+5C Budapest</td>\n",
       "      <td>4.7</td>\n",
       "      <td>676</td>\n",
       "      <td>https://www.google.com/maps/place/Buddies+Burg...</td>\n",
       "      <td>NaN</td>\n",
       "    </tr>\n",
       "    <tr>\n",
       "      <th>1</th>\n",
       "      <td>11</td>\n",
       "      <td>Borssó Bistro</td>\n",
       "      <td>Budapest, Királyi Pál u. 14, 1053</td>\n",
       "      <td>borsso.hu</td>\n",
       "      <td>F3Q5+VR Budapest</td>\n",
       "      <td>4.7</td>\n",
       "      <td>790</td>\n",
       "      <td>https://www.google.com/maps/place/Borss%C3%B3+...</td>\n",
       "      <td>NaN</td>\n",
       "    </tr>\n",
       "    <tr>\n",
       "      <th>2</th>\n",
       "      <td>10</td>\n",
       "      <td>Paprika Jancsi Restaurant</td>\n",
       "      <td>Budapest, Ráday u. 16, 1092</td>\n",
       "      <td>paprikajancsietterem.hu</td>\n",
       "      <td>F3Q7+36 Budapest</td>\n",
       "      <td>4.2</td>\n",
       "      <td>1,607</td>\n",
       "      <td>https://www.google.com/maps/place/Paprika+Janc...</td>\n",
       "      <td>NaN</td>\n",
       "    </tr>\n",
       "    <tr>\n",
       "      <th>3</th>\n",
       "      <td>9</td>\n",
       "      <td>WokZilla</td>\n",
       "      <td>Budapest, Ráday u. 33a, 1092</td>\n",
       "      <td>wokzilla.hu</td>\n",
       "      <td>F3P7+3R Budapest</td>\n",
       "      <td>4.2</td>\n",
       "      <td>762</td>\n",
       "      <td>https://www.google.com/maps/place/WokZilla/@47...</td>\n",
       "      <td>NaN</td>\n",
       "    </tr>\n",
       "    <tr>\n",
       "      <th>4</th>\n",
       "      <td>8</td>\n",
       "      <td>Tifliso restaurant/ Tifliszo grúz étterem</td>\n",
       "      <td>Budapest, Ráday u. 11-13, 1092</td>\n",
       "      <td>tifliszo.hu</td>\n",
       "      <td>F3P7+W5 Budapest</td>\n",
       "      <td>4.6</td>\n",
       "      <td>107</td>\n",
       "      <td>https://www.google.com/maps/place/Tifliso+rest...</td>\n",
       "      <td>NaN</td>\n",
       "    </tr>\n",
       "  </tbody>\n",
       "</table>\n",
       "</div>"
      ],
      "text/plain": [
       "   id                                       Name  \\\n",
       "0  12                             Buddies Burger   \n",
       "1  11                              Borssó Bistro   \n",
       "2  10                  Paprika Jancsi Restaurant   \n",
       "3   9                                   WokZilla   \n",
       "4   8  Tifliso restaurant/ Tifliszo grúz étterem   \n",
       "\n",
       "                        Full_Address                  Website  \\\n",
       "0       Budapest, Magyar u. 52, 1053               buddies.hu   \n",
       "1  Budapest, Királyi Pál u. 14, 1053                borsso.hu   \n",
       "2        Budapest, Ráday u. 16, 1092  paprikajancsietterem.hu   \n",
       "3       Budapest, Ráday u. 33a, 1092              wokzilla.hu   \n",
       "4     Budapest, Ráday u. 11-13, 1092              tifliszo.hu   \n",
       "\n",
       "          Plus_Code  Rating Reviews  \\\n",
       "0  F3R6+5C Budapest     4.7     676   \n",
       "1  F3Q5+VR Budapest     4.7     790   \n",
       "2  F3Q7+36 Budapest     4.2   1,607   \n",
       "3  F3P7+3R Budapest     4.2     762   \n",
       "4  F3P7+W5 Budapest     4.6     107   \n",
       "\n",
       "                                                 URL  Unnamed: 8  \n",
       "0  https://www.google.com/maps/place/Buddies+Burg...         NaN  \n",
       "1  https://www.google.com/maps/place/Borss%C3%B3+...         NaN  \n",
       "2  https://www.google.com/maps/place/Paprika+Janc...         NaN  \n",
       "3  https://www.google.com/maps/place/WokZilla/@47...         NaN  \n",
       "4  https://www.google.com/maps/place/Tifliso+rest...         NaN  "
      ]
     },
     "execution_count": 1,
     "metadata": {},
     "output_type": "execute_result"
    }
   ],
   "source": [
    "import pandas as pd\n",
    "\n",
    "metadata = pd.read_csv('gmc.csv', low_memory=False)\n",
    "\n",
    "metadata.head(5)"
   ]
  },
  {
   "cell_type": "code",
   "execution_count": 2,
   "metadata": {},
   "outputs": [
    {
     "name": "stdout",
     "output_type": "stream",
     "text": [
      "4.425\n"
     ]
    }
   ],
   "source": [
    "# Calculate mean of rating column\n",
    "C = metadata['Rating'].mean()\n",
    "print(C)"
   ]
  },
  {
   "cell_type": "code",
   "execution_count": 3,
   "metadata": {},
   "outputs": [],
   "source": [
    "metadata = metadata.replace({\",\":\"\"}, regex=True)"
   ]
  },
  {
   "cell_type": "code",
   "execution_count": 4,
   "metadata": {},
   "outputs": [],
   "source": [
    "metadata[\"Reviews\"] = pd.to_numeric(metadata[\"Reviews\"], downcast=\"float\")\n",
    "#metadata[\"Reviews\"] = metadata[\"Reviews\"].astype(float)"
   ]
  },
  {
   "cell_type": "code",
   "execution_count": 5,
   "metadata": {},
   "outputs": [],
   "source": [
    "#metadata.head(5)"
   ]
  },
  {
   "cell_type": "code",
   "execution_count": 6,
   "metadata": {},
   "outputs": [
    {
     "name": "stdout",
     "output_type": "stream",
     "text": [
      "1544.9000000000003\n"
     ]
    }
   ],
   "source": [
    "# Calculate the minimum number of reviews required to be in the chart, m\n",
    "m = metadata['Reviews'].quantile(0.90)\n",
    "print(m)"
   ]
  },
  {
   "cell_type": "code",
   "execution_count": 7,
   "metadata": {},
   "outputs": [
    {
     "data": {
      "text/plain": [
       "(2, 9)"
      ]
     },
     "execution_count": 7,
     "metadata": {},
     "output_type": "execute_result"
    }
   ],
   "source": [
    "# Filter out all qualified restaurants into a new DataFrame\n",
    "q_restaurants = metadata.copy().loc[metadata['Reviews'] >= m]\n",
    "q_restaurants.shape"
   ]
  },
  {
   "cell_type": "code",
   "execution_count": 8,
   "metadata": {},
   "outputs": [
    {
     "data": {
      "text/plain": [
       "(12, 9)"
      ]
     },
     "execution_count": 8,
     "metadata": {},
     "output_type": "execute_result"
    }
   ],
   "source": [
    "metadata.shape"
   ]
  },
  {
   "cell_type": "code",
   "execution_count": 9,
   "metadata": {},
   "outputs": [],
   "source": [
    "# Function that computes the weighted rating of each restaurant\n",
    "def weighted_rating(x, m=m, C=C):\n",
    "    v = x['Reviews']\n",
    "    R = x['Rating']\n",
    "    # Calculation based on the IMDB formula\n",
    "    return (v/(v+m) * R) + (m/(m+v) * C)"
   ]
  },
  {
   "cell_type": "code",
   "execution_count": 10,
   "metadata": {},
   "outputs": [],
   "source": [
    "# Define a new feature 'score' and calculate its value with `weighted_rating()`\n",
    "q_restaurants['score'] = q_restaurants.apply(weighted_rating, axis=1)"
   ]
  },
  {
   "cell_type": "code",
   "execution_count": 11,
   "metadata": {},
   "outputs": [
    {
     "data": {
      "text/html": [
       "<div>\n",
       "<style scoped>\n",
       "    .dataframe tbody tr th:only-of-type {\n",
       "        vertical-align: middle;\n",
       "    }\n",
       "\n",
       "    .dataframe tbody tr th {\n",
       "        vertical-align: top;\n",
       "    }\n",
       "\n",
       "    .dataframe thead th {\n",
       "        text-align: right;\n",
       "    }\n",
       "</style>\n",
       "<table border=\"1\" class=\"dataframe\">\n",
       "  <thead>\n",
       "    <tr style=\"text-align: right;\">\n",
       "      <th></th>\n",
       "      <th>Name</th>\n",
       "      <th>Reviews</th>\n",
       "      <th>Rating</th>\n",
       "      <th>score</th>\n",
       "    </tr>\n",
       "  </thead>\n",
       "  <tbody>\n",
       "    <tr>\n",
       "      <th>10</th>\n",
       "      <td>Manga Cowboy!</td>\n",
       "      <td>1927.0</td>\n",
       "      <td>4.4</td>\n",
       "      <td>4.411124</td>\n",
       "    </tr>\n",
       "    <tr>\n",
       "      <th>2</th>\n",
       "      <td>Paprika Jancsi Restaurant</td>\n",
       "      <td>1607.0</td>\n",
       "      <td>4.2</td>\n",
       "      <td>4.310283</td>\n",
       "    </tr>\n",
       "  </tbody>\n",
       "</table>\n",
       "</div>"
      ],
      "text/plain": [
       "                         Name  Reviews  Rating     score\n",
       "10              Manga Cowboy!   1927.0     4.4  4.411124\n",
       "2   Paprika Jancsi Restaurant   1607.0     4.2  4.310283"
      ]
     },
     "execution_count": 11,
     "metadata": {},
     "output_type": "execute_result"
    }
   ],
   "source": [
    "#Sort restaurants based on score calculated above\n",
    "q_restaurants = q_restaurants.sort_values('score', ascending=False)\n",
    "\n",
    "#Print the top 2 restaurants\n",
    "q_restaurants[['Name', 'Reviews', 'Rating', 'score']].head(2)"
   ]
  },
  {
   "cell_type": "code",
   "execution_count": 12,
   "metadata": {},
   "outputs": [
    {
     "data": {
      "text/plain": [
       "0         Budapest Magyar u. 52 1053\n",
       "1    Budapest Királyi Pál u. 14 1053\n",
       "2          Budapest Ráday u. 16 1092\n",
       "3         Budapest Ráday u. 33a 1092\n",
       "4       Budapest Ráday u. 11-13 1092\n",
       "Name: Full_Address, dtype: object"
      ]
     },
     "execution_count": 12,
     "metadata": {},
     "output_type": "execute_result"
    }
   ],
   "source": [
    "metadata['Full_Address'].head()"
   ]
  },
  {
   "cell_type": "code",
   "execution_count": 13,
   "metadata": {},
   "outputs": [
    {
     "data": {
      "text/plain": [
       "(12, 21)"
      ]
     },
     "execution_count": 13,
     "metadata": {},
     "output_type": "execute_result"
    }
   ],
   "source": [
    "#Import TfIdfVectorizer from scikit-learn\n",
    "from sklearn.feature_extraction.text import TfidfVectorizer\n",
    "\n",
    "#Define a TF-IDF Vectorizer Object. Remove all english stop words such as 'the', 'a'\n",
    "tfidf = TfidfVectorizer(stop_words='english')\n",
    "\n",
    "#Replace NaN with an empty string\n",
    "metadata['Full_Address'] = metadata['Full_Address'].fillna('')\n",
    "\n",
    "#Construct the required TF-IDF matrix by fitting and transforming the data\n",
    "tfidf_matrix = tfidf.fit_transform(metadata['Full_Address'])\n",
    "\n",
    "#Output the shape of tfidf_matrix\n",
    "tfidf_matrix.shape"
   ]
  }
 ],
 "metadata": {
  "kernelspec": {
   "display_name": "Python 3",
   "language": "python",
   "name": "python3"
  },
  "language_info": {
   "codemirror_mode": {
    "name": "ipython",
    "version": 3
   },
   "file_extension": ".py",
   "mimetype": "text/x-python",
   "name": "python",
   "nbconvert_exporter": "python",
   "pygments_lexer": "ipython3",
   "version": "3.7.3"
  }
 },
 "nbformat": 4,
 "nbformat_minor": 2
}
